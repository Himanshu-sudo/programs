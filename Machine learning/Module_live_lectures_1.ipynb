{
 "cells": [
  {
   "cell_type": "code",
   "execution_count": 62,
   "id": "553266aa",
   "metadata": {},
   "outputs": [],
   "source": [
    "def mul(number , value):\n",
    "    number = list(str(number))\n",
    "    \n",
    "    carry = 0\n",
    "    result = []\n",
    "    for i in range(1 , len(number) + 1):\n",
    "        temp = value * int(number[len(number) - i])\n",
    "        \n",
    "        if carry:\n",
    "            temp += carry\n",
    "            carry = 0\n",
    "            \n",
    "        if len(str(temp)) > 1:\n",
    "            carry = int(temp / 10)\n",
    "            \n",
    "        result.append(str(temp % 10))\n",
    "    if carry:\n",
    "        if len(str(carry)) > 1:\n",
    "            carry = list(str(carry))\n",
    "            carry.reverse()\n",
    "            result.extend(carry)\n",
    "        else:\n",
    "            result.append(str(carry))\n",
    "    result.reverse()   \n",
    "    return result     \n",
    "    \n",
    "    "
   ]
  },
  {
   "cell_type": "code",
   "execution_count": 65,
   "id": "e9d73b41",
   "metadata": {},
   "outputs": [
    {
     "data": {
      "text/plain": [
       "['1', '7', '6', '7', '2', '7', '5']"
      ]
     },
     "execution_count": 65,
     "metadata": {},
     "output_type": "execute_result"
    }
   ],
   "source": []
  },
  {
   "cell_type": "code",
   "execution_count": 39,
   "id": "0a5667df",
   "metadata": {},
   "outputs": [],
   "source": [
    "\n",
    "        "
   ]
  },
  {
   "cell_type": "code",
   "execution_count": 29,
   "id": "22820b53",
   "metadata": {},
   "outputs": [
    {
     "data": {
      "text/plain": [
       "45"
      ]
     },
     "execution_count": 29,
     "metadata": {},
     "output_type": "execute_result"
    }
   ],
   "source": []
  },
  {
   "cell_type": "code",
   "execution_count": null,
   "id": "c4322356",
   "metadata": {},
   "outputs": [],
   "source": []
  }
 ],
 "metadata": {
  "kernelspec": {
   "display_name": "Python 3",
   "language": "python",
   "name": "python3"
  },
  "language_info": {
   "codemirror_mode": {
    "name": "ipython",
    "version": 3
   },
   "file_extension": ".py",
   "mimetype": "text/x-python",
   "name": "python",
   "nbconvert_exporter": "python",
   "pygments_lexer": "ipython3",
   "version": "3.8.8"
  }
 },
 "nbformat": 4,
 "nbformat_minor": 5
}
